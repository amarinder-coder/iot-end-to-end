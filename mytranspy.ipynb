{
 "cells": [
  {
   "cell_type": "code",
   "execution_count": 0,
   "metadata": {
    "application/vnd.databricks.v1+cell": {
     "cellMetadata": {
      "byteLimit": 2048000,
      "rowLimit": 10000
     },
     "inputWidgets": {},
     "nuid": "0e95fac5-a999-4017-a298-68dfb7517447",
     "showTitle": true,
     "title": "Connect to storage account"
    }
   },
   "outputs": [
    {
     "output_type": "stream",
     "name": "stdout",
     "output_type": "stream",
     "text": [
      "Out[23]: True"
     ]
    }
   ],
   "source": [
    "dbutils.fs.mount(\n",
    "source = \"wasbs://smartmeterdata@myiotstrg.blob.core.windows.net\",\n",
    "mount_point = \"/mnt/smartmeterdata\",\n",
    "extra_configs = {\"fs.azure.account.key.myiotstrg.blob.core.windows.net\": \"raFPox2dC6XiEYpKH1h+KTp065IL4E7pu6kqu/n6zN3UDAQ3TffUoSC4xyof50p9g++yrub4sHvn+AStTNjL8g==\" })\n",
    "\n",
    "\n"
   ]
  },
  {
   "cell_type": "code",
   "execution_count": 0,
   "metadata": {
    "application/vnd.databricks.v1+cell": {
     "cellMetadata": {
      "byteLimit": 2048000,
      "rowLimit": 10000
     },
     "inputWidgets": {},
     "nuid": "4557c447-bca8-487e-a408-3597256dd219",
     "showTitle": false,
     "title": ""
    }
   },
   "outputs": [
    {
     "output_type": "display_data",
     "data": {
      "text/html": [
       "<style scoped>\n  .table-result-container {\n    max-height: 300px;\n    overflow: auto;\n  }\n  table, th, td {\n    border: 1px solid black;\n    border-collapse: collapse;\n  }\n  th, td {\n    padding: 5px;\n  }\n  th {\n    text-align: left;\n  }\n</style><div class='table-result-container'><table class='table-result'><thead style='background-color: white'><tr><th>path</th><th>name</th><th>size</th><th>modificationTime</th></tr></thead><tbody><tr><td>dbfs:/mnt/smartmeterdata/smartmeterdata/</td><td>smartmeterdata/</td><td>0</td><td>0</td></tr></tbody></table></div>"
      ]
     },
     "metadata": {
      "application/vnd.databricks.v1+output": {
       "addedWidgets": {},
       "aggData": [],
       "aggError": "",
       "aggOverflow": false,
       "aggSchema": [],
       "aggSeriesLimitReached": false,
       "aggType": "",
       "arguments": {},
       "columnCustomDisplayInfos": {},
       "data": [
        [
         "dbfs:/mnt/smartmeterdata/smartmeterdata/",
         "smartmeterdata/",
         0,
         0
        ]
       ],
       "datasetInfos": [],
       "dbfsResultPath": null,
       "isJsonSchema": true,
       "metadata": {},
       "overflow": false,
       "plotOptions": {
        "customPlotOptions": {},
        "displayType": "table",
        "pivotAggregation": null,
        "pivotColumns": null,
        "xColumns": null,
        "yColumns": null
       },
       "removedWidgets": [],
       "schema": [
        {
         "metadata": "{}",
         "name": "path",
         "type": "\"string\""
        },
        {
         "metadata": "{}",
         "name": "name",
         "type": "\"string\""
        },
        {
         "metadata": "{}",
         "name": "size",
         "type": "\"long\""
        },
        {
         "metadata": "{}",
         "name": "modificationTime",
         "type": "\"long\""
        }
       ],
       "type": "table"
      }
     },
     "output_type": "display_data"
    }
   ],
   "source": [
    "display(dbutils.fs.ls(\"/mnt/smartmeterdata\"))"
   ]
  },
  {
   "cell_type": "code",
   "execution_count": 0,
   "metadata": {
    "application/vnd.databricks.v1+cell": {
     "cellMetadata": {
      "byteLimit": 2048000,
      "rowLimit": 10000
     },
     "inputWidgets": {},
     "nuid": "bd58a8fe-14fd-48f4-a1f7-f9c7ea0215bf",
     "showTitle": true,
     "title": "Creating dataframes"
    }
   },
   "outputs": [
    {
     "output_type": "stream",
     "name": "stdout",
     "output_type": "stream",
     "text": [
      "[('id', 'string'), ('time', 'timestamp'), ('temp', 'int'), ('voltage', 'double'), ('EventProcessedUtcTime', 'timestamp'), ('PartitionId', 'int'), ('EventEnqueuedUtcTime', 'timestamp'), ('IoTHub', 'string')]\n"
     ]
    }
   ],
   "source": [
    "df =  spark.read.options(header='true',inferSchema='true').csv(\"dbfs:/mnt/smartmeterdata/smartmeterdata/*/*/*/*.csv\",header=True)\n",
    "print(df.dtypes)\n"
   ]
  },
  {
   "cell_type": "code",
   "execution_count": 0,
   "metadata": {
    "application/vnd.databricks.v1+cell": {
     "cellMetadata": {
      "byteLimit": 2048000,
      "rowLimit": 10000
     },
     "inputWidgets": {},
     "nuid": "06175610-50c6-4a69-83a0-a17a4a56c519",
     "showTitle": false,
     "title": ""
    }
   },
   "outputs": [
    {
     "output_type": "stream",
     "name": "stdout",
     "output_type": "stream",
     "text": [
      "+-------+--------------------+----+-------------------+---------------------+-----------+--------------------+------+\n|     id|                time|temp|            voltage|EventProcessedUtcTime|PartitionId|EventEnqueuedUtcTime|IoTHub|\n+-------+--------------------+----+-------------------+---------------------+-----------+--------------------+------+\n|Device3|2023-03-24 02:28:...|  99| 0.5673613705958059| 2023-03-24 02:28:...|          1|2023-03-24 02:28:...|Record|\n|Device0|2023-03-24 02:28:...|  94| 0.5732943126313828| 2023-03-24 02:28:...|          1|2023-03-24 02:28:...|Record|\n|Device2|2023-03-24 02:28:...| 105|  0.965004266360311| 2023-03-24 02:28:...|          1|2023-03-24 02:28:...|Record|\n|Device4|2023-03-24 02:28:...| 105|0.31017014645234225| 2023-03-24 02:28:...|          1|2023-03-24 02:28:...|Record|\n|Device1|2023-03-24 02:28:...|  99| 0.7538585807419654| 2023-03-24 02:28:...|          1|2023-03-24 02:28:...|Record|\n|Device3|2023-03-24 02:28:...| 104| 0.4320169802410607| 2023-03-24 02:28:...|          1|2023-03-24 02:28:...|Record|\n|Device0|2023-03-24 02:28:...|  98| 0.4789505325131819| 2023-03-24 02:28:...|          1|2023-03-24 02:28:...|Record|\n|Device2|2023-03-24 02:28:...| 104|0.16294135267703858| 2023-03-24 02:28:...|          1|2023-03-24 02:28:...|Record|\n|Device4|2023-03-24 02:28:...|  94|0.35792670010213123| 2023-03-24 02:28:...|          1|2023-03-24 02:28:...|Record|\n|Device1|2023-03-24 02:28:...|  99|  0.635158901069853| 2023-03-24 02:28:...|          1|2023-03-24 02:28:...|Record|\n+-------+--------------------+----+-------------------+---------------------+-----------+--------------------+------+\nonly showing top 10 rows\n\n"
     ]
    }
   ],
   "source": [
    "df.show(10)"
   ]
  },
  {
   "cell_type": "code",
   "execution_count": 0,
   "metadata": {
    "application/vnd.databricks.v1+cell": {
     "cellMetadata": {
      "byteLimit": 2048000,
      "rowLimit": 10000
     },
     "inputWidgets": {},
     "nuid": "cc3e0d67-9212-40a6-897c-ae0c6092bd8e",
     "showTitle": false,
     "title": ""
    }
   },
   "outputs": [],
   "source": [
    "df.write.mode(\"overwrite\").saveAsTable(\"SmartMeters\")"
   ]
  },
  {
   "cell_type": "code",
   "execution_count": 0,
   "metadata": {
    "application/vnd.databricks.v1+cell": {
     "cellMetadata": {
      "byteLimit": 2048000,
      "implicitDf": true,
      "rowLimit": 10000
     },
     "inputWidgets": {},
     "nuid": "7a60a092-69da-43eb-ad0f-fafab127ec76",
     "showTitle": false,
     "title": ""
    }
   },
   "outputs": [
    {
     "output_type": "display_data",
     "data": {
      "text/html": [
       "<style scoped>\n  .table-result-container {\n    max-height: 300px;\n    overflow: auto;\n  }\n  table, th, td {\n    border: 1px solid black;\n    border-collapse: collapse;\n  }\n  th, td {\n    padding: 5px;\n  }\n  th {\n    text-align: left;\n  }\n</style><div class='table-result-container'><table class='table-result'><thead style='background-color: white'><tr><th>id</th><th>count</th><th>AverageTemp</th></tr></thead><tbody><tr><td>Device0</td><td>606</td><td>99.4042904290429</td></tr><tr><td>Device1</td><td>607</td><td>99.38879736408566</td></tr><tr><td>Device2</td><td>674</td><td>99.45845697329376</td></tr><tr><td>Device3</td><td>606</td><td>99.47854785478548</td></tr><tr><td>Device4</td><td>610</td><td>99.38032786885246</td></tr></tbody></table></div>"
      ]
     },
     "metadata": {
      "application/vnd.databricks.v1+output": {
       "addedWidgets": {},
       "aggData": [],
       "aggError": "",
       "aggOverflow": false,
       "aggSchema": [],
       "aggSeriesLimitReached": false,
       "aggType": "",
       "arguments": {},
       "columnCustomDisplayInfos": {},
       "data": [
        [
         "Device0",
         606,
         99.4042904290429
        ],
        [
         "Device1",
         607,
         99.38879736408566
        ],
        [
         "Device2",
         674,
         99.45845697329376
        ],
        [
         "Device3",
         606,
         99.47854785478548
        ],
        [
         "Device4",
         610,
         99.38032786885246
        ]
       ],
       "datasetInfos": [],
       "dbfsResultPath": null,
       "isJsonSchema": true,
       "metadata": {},
       "overflow": false,
       "plotOptions": {
        "customPlotOptions": {},
        "displayType": "table",
        "pivotAggregation": null,
        "pivotColumns": null,
        "xColumns": null,
        "yColumns": null
       },
       "removedWidgets": [],
       "schema": [
        {
         "metadata": "{}",
         "name": "id",
         "type": "\"string\""
        },
        {
         "metadata": "{}",
         "name": "count",
         "type": "\"long\""
        },
        {
         "metadata": "{}",
         "name": "AverageTemp",
         "type": "\"double\""
        }
       ],
       "type": "table"
      }
     },
     "output_type": "display_data"
    }
   ],
   "source": [
    "%sql\n",
    "select id,count(*) as count,avg(temp) as AverageTemp from SmartMeters group by id order by id"
   ]
  },
  {
   "cell_type": "code",
   "execution_count": 0,
   "metadata": {
    "application/vnd.databricks.v1+cell": {
     "cellMetadata": {
      "byteLimit": 2048000,
      "rowLimit": 10000
     },
     "inputWidgets": {},
     "nuid": "d3351a9c-1943-429e-a3f6-84bb306922c7",
     "showTitle": false,
     "title": ""
    }
   },
   "outputs": [
    {
     "output_type": "stream",
     "name": "stdout",
     "output_type": "stream",
     "text": [
      "+-------+-----+-----------------+\n|     id|count|      AverageTemp|\n+-------+-----+-----------------+\n|Device0|  606| 99.4042904290429|\n|Device1|  607|99.38879736408566|\n|Device2|  674|99.45845697329376|\n|Device3|  606|99.47854785478548|\n|Device4|  610|99.38032786885246|\n+-------+-----+-----------------+\n\n"
     ]
    }
   ],
   "source": [
    "summary = spark.sql(\"select id,count(*) as count,avg(temp) as AverageTemp from SmartMeters group by id order by id\")\n",
    "summary.show()\n",
    "\n",
    "summary.write.mode(\"overwrite\").saveAsTable(\"DeviceSummary\")"
   ]
  },
  {
   "cell_type": "code",
   "execution_count": 0,
   "metadata": {
    "application/vnd.databricks.v1+cell": {
     "cellMetadata": {
      "byteLimit": 2048000,
      "implicitDf": true,
      "rowLimit": 10000
     },
     "inputWidgets": {},
     "nuid": "8bf30fa6-d9b6-4256-832a-a6270354a5a3",
     "showTitle": false,
     "title": ""
    }
   },
   "outputs": [
    {
     "output_type": "display_data",
     "data": {
      "text/html": [
       "<style scoped>\n  .table-result-container {\n    max-height: 300px;\n    overflow: auto;\n  }\n  table, th, td {\n    border: 1px solid black;\n    border-collapse: collapse;\n  }\n  th, td {\n    padding: 5px;\n  }\n  th {\n    text-align: left;\n  }\n</style><div class='table-result-container'><table class='table-result'><thead style='background-color: white'><tr><th>id</th><th>count</th><th>AverageTemp</th></tr></thead><tbody><tr><td>Device0</td><td>606</td><td>99.4042904290429</td></tr><tr><td>Device1</td><td>607</td><td>99.38879736408566</td></tr><tr><td>Device2</td><td>674</td><td>99.45845697329376</td></tr><tr><td>Device3</td><td>606</td><td>99.47854785478548</td></tr><tr><td>Device4</td><td>610</td><td>99.38032786885246</td></tr></tbody></table></div>"
      ]
     },
     "metadata": {
      "application/vnd.databricks.v1+output": {
       "addedWidgets": {},
       "aggData": [],
       "aggError": "",
       "aggOverflow": false,
       "aggSchema": [],
       "aggSeriesLimitReached": false,
       "aggType": "",
       "arguments": {},
       "columnCustomDisplayInfos": {},
       "data": [
        [
         "Device0",
         606,
         99.4042904290429
        ],
        [
         "Device1",
         607,
         99.38879736408566
        ],
        [
         "Device2",
         674,
         99.45845697329376
        ],
        [
         "Device3",
         606,
         99.47854785478548
        ],
        [
         "Device4",
         610,
         99.38032786885246
        ]
       ],
       "datasetInfos": [],
       "dbfsResultPath": null,
       "isJsonSchema": true,
       "metadata": {},
       "overflow": false,
       "plotOptions": {
        "customPlotOptions": {},
        "displayType": "table",
        "pivotAggregation": null,
        "pivotColumns": null,
        "xColumns": null,
        "yColumns": null
       },
       "removedWidgets": [],
       "schema": [
        {
         "metadata": "{}",
         "name": "id",
         "type": "\"string\""
        },
        {
         "metadata": "{}",
         "name": "count",
         "type": "\"long\""
        },
        {
         "metadata": "{}",
         "name": "AverageTemp",
         "type": "\"double\""
        }
       ],
       "type": "table"
      }
     },
     "output_type": "display_data"
    },
    {
     "output_type": "display_data",
     "data": {
      "text/plain": [
       "Output can only be rendered in Databricks"
      ]
     },
     "metadata": {
      "application/vnd.databricks.v1.subcommand+json": {
       "bindings": {},
       "collapsed": false,
       "command": "%sql WITH q AS (select * from DeviceSummary) SELECT `count`,SUM(`AverageTemp`) `column_657398822`,`id` FROM q GROUP BY `count`,`id`",
       "commandTitle": "Visualization 1",
       "commandType": "auto",
       "commandVersion": 0,
       "commentThread": [],
       "commentsVisible": false,
       "contentSha256Hex": null,
       "customPlotOptions": {
        "redashChart": [
         {
          "key": "type",
          "value": "CHART"
         },
         {
          "key": "options",
          "value": {
           "alignYAxesAtZero": true,
           "coefficient": 1,
           "columnConfigurationMap": {
            "series": {
             "column": "id",
             "id": "column_657398823"
            },
            "x": {
             "column": "count",
             "id": "column_657398821"
            },
            "y": [
             {
              "column": "AverageTemp",
              "id": "column_657398822",
              "transform": "SUM"
             }
            ]
           },
           "dateTimeFormat": "DD/MM/YYYY HH:mm",
           "direction": {
            "type": "counterclockwise"
           },
           "error_y": {
            "type": "data",
            "visible": true
           },
           "globalSeriesType": "column",
           "isAggregationOn": true,
           "legend": {
            "traceorder": "normal"
           },
           "missingValuesAsZero": true,
           "numberFormat": "0,0[.]00000",
           "percentFormat": "0[.]00%",
           "series": {
            "error_y": {
             "type": "data",
             "visible": true
            },
            "stacking": null
           },
           "seriesOptions": {
            "column_657398822": {
             "name": "AverageTemp",
             "type": "column",
             "yAxis": 0
            }
           },
           "showDataLabels": false,
           "sizemode": "diameter",
           "sortX": true,
           "sortY": true,
           "swappedAxes": false,
           "textFormat": "",
           "useAggregationsUi": true,
           "valuesOptions": {},
           "version": 2,
           "xAxis": {
            "labels": {
             "enabled": true
            },
            "type": "-"
           },
           "yAxis": [
            {
             "type": "-"
            },
            {
             "opposite": true,
             "type": "-"
            }
           ]
          }
         }
        ]
       },
       "datasetPreviewNameToCmdIdMap": {},
       "diffDeletes": [],
       "diffInserts": [],
       "displayType": "redashChart",
       "error": null,
       "errorSummary": null,
       "errorTraceType": null,
       "finishTime": 0,
       "globalVars": {},
       "guid": "b3c547fc-00bc-4914-a155-8306bfef0a17",
       "height": "auto",
       "hideCommandCode": false,
       "hideCommandResult": false,
       "iPythonMetadata": null,
       "inputWidgets": {},
       "isLockedInExamMode": false,
       "latestUser": "a user",
       "latestUserId": null,
       "listResultMetadata": null,
       "metadata": {},
       "nuid": "ccdf16f0-ad7f-424c-9bb0-5be87a707ce7",
       "origId": 2977964990276579,
       "parentHierarchy": [
        "bacf1e31-6d5e-48a2-9861-3d2cbf36215c"
       ],
       "pivotAggregation": null,
       "pivotColumns": null,
       "position": 11.0,
       "resultDbfsErrorMessage": null,
       "resultDbfsStatus": "INLINED_IN_TREE",
       "results": null,
       "showCommandTitle": false,
       "startTime": 0,
       "state": "input",
       "streamStates": {},
       "subcommandOptions": {
        "queryPlan": {
         "groups": [
          {
           "column": "count",
           "type": "column"
          },
          {
           "column": "id",
           "type": "column"
          }
         ],
         "selects": [
          {
           "column": "count",
           "type": "column"
          },
          {
           "alias": "column_657398822",
           "args": [
            {
             "column": "AverageTemp",
             "type": "column"
            }
           ],
           "function": "SUM",
           "type": "function"
          },
          {
           "column": "id",
           "type": "column"
          }
         ]
        }
       },
       "submitTime": 0,
       "subtype": "tableResultSubCmd.visualization",
       "tableResultIndex": 0,
       "useConsistentColors": false,
       "version": "CommandV1",
       "width": "auto",
       "workflows": [],
       "xColumns": null,
       "yColumns": null
      }
     },
     "output_type": "display_data"
    }
   ],
   "source": [
    "%sql\n",
    "select * from DeviceSummary"
   ]
  }
 ],
 "metadata": {
  "application/vnd.databricks.v1+notebook": {
   "dashboards": [],
   "language": "python",
   "notebookMetadata": {
    "mostRecentlyExecutedCommandWithImplicitDF": {
     "commandId": 2977964990276578,
     "dataframes": [
      "_sqldf"
     ]
    },
    "pythonIndentUnit": 4
   },
   "notebookName": "mytranspy",
   "notebookOrigID": 2075480576448015,
   "widgets": {
    "accountKey": {
     "currentValue": "raFPox2dC6XiEYpKH1h+KTp065IL4E7pu6kqu/n6zN3UDAQ3TffUoSC4xyof50p9g++yrub4sHvn+AStTNjL8g==",
     "nuid": "544e16de-6b16-4e4b-8424-fc6bd6268210",
     "widgetInfo": {
      "widgetType": "text",
      "defaultValue": "",
      "label": "Account Key",
      "name": "accountKey",
      "options": {
       "widgetType": "text",
       "validationRegex": null
      }
     }
    },
    "accountName": {
     "currentValue": "myiotstrg",
     "nuid": "fd1c6459-e456-4b56-aae9-91ef87f03b4a",
     "widgetInfo": {
      "widgetType": "text",
      "defaultValue": "",
      "label": "Account Name",
      "name": "accountName",
      "options": {
       "widgetType": "text",
       "validationRegex": null
      }
     }
    }
   }
  }
 },
 "nbformat": 4,
 "nbformat_minor": 0
}
